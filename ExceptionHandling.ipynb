{
  "nbformat": 4,
  "nbformat_minor": 0,
  "metadata": {
    "colab": {
      "provenance": []
    },
    "kernelspec": {
      "name": "python3",
      "display_name": "Python 3"
    },
    "language_info": {
      "name": "python"
    }
  },
  "cells": [
    {
      "cell_type": "markdown",
      "source": [
        "# **Files, exceptional handling, logging and memory management Theory Questions**:\n",
        "---"
      ],
      "metadata": {
        "id": "o8IVs0Ln_NCq"
      }
    },
    {
      "cell_type": "markdown",
      "source": [
        "# 1. What is the difference between interpreted and compiled languages?\n",
        "\n",
        "  - Interpreted languages run the code line by line (e.g. Python), while compiled languages convert the whole code into machine code before running (e.g. C++).\n",
        "\n",
        "# 2. What is exception handling in Python?\n",
        "\n",
        "  - Exception handling in Python is a way to catch and manage errors using `try`, `except`, `else`, and `finally` blocks, so the program doesn’t crash.\n",
        "\n",
        "# 3. What is the purpose of the finally block in exception handling?\n",
        "\n",
        "  - The `finally` block runs no matter what, whether an exception occurs or not. It's typically used for cleanup tasks like closing files or releasing resources.\n",
        "\n",
        "# 4. What is logging in Python?\n",
        "\n",
        "  - Logging in Python is a way to record messages (like errors, warnings, or info) during program execution. It helps with debugging and tracking the flow of the program. It’s done using the `logging` module.\n",
        "\n",
        "# 5. What is the significance of the `__del__` method in Python?\n",
        "\n",
        "  - The `__del__` method in Python is a destructor. It is automatically called when an object is about to be destroyed, allowing you to clean up resources (e.g., close files or connections). However, it's not guaranteed when it will be called, as Python uses garbage collection.\n",
        "\n",
        "# 6. What is the difference between import and from ... import in Python?\n",
        "\n",
        "  - * `import module`: Imports the entire module, so you need to reference it with the module name (e.g., `module.function()`).\n",
        "* `from module import something`: Imports only specific functions or variables from the module, so you can use them directly (e.g., `function()`).\n",
        "\n",
        "# 7. How can you handle multiple exceptions in Python?\n",
        "\n",
        "  - You can handle multiple exceptions in Python by using multiple `except` blocks or by specifying multiple exceptions in a single `except` block like this:\n",
        "\n",
        "```python\n",
        "try:\n",
        "    # code that might raise an exception\n",
        "except (ExceptionType1, ExceptionType2) as e:\n",
        "    # handle both exceptions\n",
        "```\n",
        "\n",
        "Or:\n",
        "\n",
        "```python\n",
        "try:\n",
        "    # code that might raise an exception\n",
        "except ExceptionType1:\n",
        "    # handle ExceptionType1\n",
        "except ExceptionType2:\n",
        "    # handle ExceptionType2\n",
        "```\n",
        "\n",
        "# 8.What is the purpose of the with statement when handling files in Python?\n",
        "\n",
        "  - The `with` statement simplifies file handling by automatically managing resources. It ensures that the file is properly opened and closed, even if an error occurs. This eliminates the need for manually closing the file with `file.close()`. Example:\n",
        "\n",
        "```python\n",
        "with open('file.txt', 'r') as file:\n",
        "    content = file.read()\n",
        "```\n",
        "\n",
        "Here, the file is automatically closed after reading, even if an exception is raised.\n",
        "\n",
        "# 9. What is the difference between multithreading and multiprocessing?\n",
        "\n",
        "  - * **Multithreading**: Runs multiple threads (smaller tasks) within a single process. Good for I/O-bound tasks (like reading files, network requests) but doesn't fully utilize multiple CPU cores due to Python's Global Interpreter Lock (GIL).\n",
        "\n",
        "* **Multiprocessing**: Runs multiple processes, each with its own memory and Python interpreter. It’s ideal for CPU-bound tasks, as it can utilize multiple CPU cores.\n",
        "\n",
        "# 10. What are the advantages of using logging in a program?\n",
        "\n",
        "  - The advantages of using logging in a program include:\n",
        "\n",
        "1. **Error Tracking**: Helps identify and track errors and exceptions in your program.\n",
        "2. **Debugging**: Provides insights into program flow and variable values, aiding debugging.\n",
        "3. **Persistence**: Logs can be saved to a file, which makes it easy to review past events.\n",
        "4. **Customization**: You can set different log levels (e.g., INFO, WARNING, ERROR) to filter messages.\n",
        "5. **Non-intrusive**: Unlike `print()` statements, logs are less disruptive and can be disabled or redirected without changing the code.\n",
        "\n",
        "# 11. What is memory management in Python?\n",
        "\n",
        "  - Memory management in Python involves automatically allocating and freeing memory using a garbage collection system. Key features include:\n",
        "\n",
        "1. **Automatic memory allocation**: Python handles memory allocation for variables and objects.\n",
        "2. **Garbage collection**: Unused objects are automatically cleaned up to free memory.\n",
        "3. **Reference counting**: Python tracks how many references exist for an object to determine when it’s no longer needed and can be deleted.\n",
        "4. **Memory pools**: Python uses memory pools to manage memory more efficiently and reduce fragmentation.\n",
        "\n",
        "# 12. What are the basic steps involved in exception handling in Python?\n",
        "\n",
        "  - The basic steps involved in exception handling in Python are:\n",
        "\n",
        "1. **Try Block**: Wrap the code that might raise an exception inside a `try` block.\n",
        "2. **Except Block**: Catch and handle specific exceptions using an `except` block.\n",
        "3. **Else Block**: (Optional) Run code if no exception occurs.\n",
        "4. **Finally Block**: (Optional) Execute code that must run, regardless of whether an exception occurred (e.g., clean-up tasks).\n",
        "\n",
        "Example:\n",
        "\n",
        "```python\n",
        "try:\n",
        "    # code that might raise an exception\n",
        "except ExceptionType:\n",
        "    # handle the exception\n",
        "else:\n",
        "    # code to run if no exception occurs\n",
        "finally:\n",
        "    # code to clean up or finalize\n",
        "```\n",
        "\n",
        "# 13. Why is memory management important in Python?\n",
        "\n",
        "  - Memory management is important in Python for several reasons:\n",
        "\n",
        "1. **Efficient Resource Use**: Proper memory management ensures the program uses system memory effectively, preventing memory leaks and reducing unnecessary memory consumption.\n",
        "\n",
        "2. **Performance**: Efficient memory handling helps the program run faster and avoids slowdowns due to excessive memory usage.\n",
        "\n",
        "3. **Garbage Collection**: Python automatically manages memory with its garbage collection system, ensuring objects are cleaned up when no longer needed, which helps in maintaining optimal performance.\n",
        "\n",
        "4. **Avoid Crashes**: Poor memory management can lead to crashes or unexpected behavior due to running out of memory.\n",
        "\n",
        "5. **Scalability**: As programs grow, proper memory management ensures they can scale without running into memory-related issues.\n",
        "\n",
        "# 14. What is the role of try and except in exception handling?\n",
        "\n",
        "  - In exception handling, the role of `try` and `except` is:\n",
        "\n",
        "* **`try`**: It contains the code that might raise an exception. Python attempts to run this code.\n",
        "\n",
        "* **`except`**: If an exception occurs in the `try` block, the `except` block catches and handles it, preventing the program from crashing. You can specify the type of exception you want to catch (e.g., `except ZeroDivisionError:`).\n",
        "\n",
        "Example:\n",
        "\n",
        "```python\n",
        "try:\n",
        "    result = 10 / 0\n",
        "except ZeroDivisionError:\n",
        "    print(\"Cannot divide by zero!\")\n",
        "```\n",
        "\n",
        "# 15. How does Python's garbage collection system work?\n",
        "\n",
        "  - Python's garbage collection system works through **reference counting** and **cyclic garbage collection**:\n",
        "\n",
        "1. **Reference Counting**: Every object in Python has a reference count, which tracks how many references point to it. When the reference count drops to zero (no references to the object), Python automatically frees the memory used by that object.\n",
        "\n",
        "2. **Cyclic Garbage Collection**: Python also detects and handles reference cycles (e.g., objects referencing each other in a cycle). The **`gc` module** helps in this process, periodically checking for circular references and cleaning them up.\n",
        "\n",
        "# 16. What is the purpose of the else block in exception handling?\n",
        "\n",
        "  - The `else` block in exception handling is used to define code that should run **only if no exception** was raised in the `try` block. It allows you to separate the error-handling code from the regular code that should execute when everything works fine.\n",
        "\n",
        "Example:\n",
        "\n",
        "```python\n",
        "try:\n",
        "    result = 10 / 2\n",
        "except ZeroDivisionError:\n",
        "    print(\"Cannot divide by zero!\")\n",
        "else:\n",
        "    print(\"Division successful! The result is:\", result)\n",
        "```\n",
        "\n",
        "Here, the `else` block runs only if there is no exception in the `try` block. If there’s an exception, the `except` block runs instead.\n",
        "\n",
        "# 17. What are the common logging levels in Python?\n",
        "\n",
        "  - The common logging levels in Python, in order of increasing severity, are:\n",
        "\n",
        "1. **DEBUG**: Detailed information, typically useful for diagnosing issues. This is the lowest level.\n",
        "2. **INFO**: General information about the program’s execution, used to track the progress.\n",
        "3. **WARNING**: Indicates something unexpected, but the program can still continue running.\n",
        "4. **ERROR**: Indicates a more serious problem, but the program can still run.\n",
        "5. **CRITICAL**: A very serious error, often causing the program to terminate.\n",
        "\n",
        "Each level filters messages of that level and higher. For example, setting the log level to `WARNING` will show only `WARNING`, `ERROR`, and `CRITICAL` messages.\n",
        "\n",
        "# 18. What is the difference between os.fork() and multiprocessing in Python?\n",
        "\n",
        "  - The main differences between `os.fork()` and the `multiprocessing` module in Python are:\n",
        "\n",
        "1. **`os.fork()`**:\n",
        "\n",
        "   * Creates a child process by duplicating the parent process.\n",
        "   * Available only on Unix-based systems (Linux, macOS).\n",
        "   * The child process gets a copy of the parent’s memory space.\n",
        "   * It’s lower-level and requires manual management of processes and resources.\n",
        "\n",
        "2. **`multiprocessing`**:\n",
        "\n",
        "   * Provides a higher-level API for creating and managing processes.\n",
        "   * Works across different platforms (Linux, macOS, Windows).\n",
        "   * Handles process creation, synchronization, and communication more easily (e.g., through queues, pipes).\n",
        "   * Uses separate memory space for each process, preventing memory sharing issues.\n",
        "\n",
        "# 19. What is the importance of closing a file in Python?\n",
        "\n",
        "  - Closing a file in Python is important for several reasons:\n",
        "\n",
        "1. **Resource Management**: When a file is open, it uses system resources (like memory and file handles). Closing the file releases those resources, preventing resource leaks.\n",
        "\n",
        "2. **Data Integrity**: When writing to a file, data might not be written immediately to disk. Closing the file ensures that all data is properly flushed and saved to the file.\n",
        "\n",
        "3. **Avoiding Errors**: Keeping files open can cause issues, especially if you try to open them again or perform other operations on them. Closing the file helps avoid such errors.\n",
        "\n",
        "Using the `with` statement is a convenient way to ensure the file gets automatically closed after use:\n",
        "\n",
        "```python\n",
        "with open('file.txt', 'r') as file:\n",
        "    content = file.read()\n",
        "# No need to manually close the file; it’s done automatically.\n",
        "```\n",
        "\n",
        "# 20. What is the difference between file.read() and file.readline() in Python?\n",
        "\n",
        "  - The difference between `file.read()` and `file.readline()` in Python is:\n",
        "\n",
        "1. **`file.read()`**:\n",
        "\n",
        "   * Reads the entire content of the file as a single string.\n",
        "   * It loads everything at once, which can be inefficient for large files.\n",
        "\n",
        "   Example:\n",
        "\n",
        "   ```python\n",
        "   with open('file.txt', 'r') as file:\n",
        "       content = file.read()\n",
        "   ```\n",
        "\n",
        "2. **`file.readline()`**:\n",
        "\n",
        "   * Reads one line at a time from the file.\n",
        "   * It’s more memory-efficient for large files because it only loads one line into memory at a time.\n",
        "\n",
        "   Example:\n",
        "\n",
        "   ```python\n",
        "   with open('file.txt', 'r') as file:\n",
        "       line = file.readline()\n",
        "       print(line)\n",
        "   ```\n",
        "\n",
        "# 21. What is the logging module in Python used for?\n",
        "\n",
        "  - The `logging` module in Python is used for tracking and recording events that happen during the execution of a program. It allows you to log messages of different severity levels (e.g., debug, info, warning, error, and critical), which helps with:\n",
        "\n",
        "1. **Debugging**: By tracking the flow of execution and variables, it aids in identifying issues.\n",
        "2. **Error Reporting**: It provides a way to log errors, making it easier to monitor and fix problems.\n",
        "3. **Monitoring**: Logs can be used for ongoing monitoring of program behavior, especially in production environments.\n",
        "4. **Persistence**: Logs can be written to files, allowing you to review past events and behaviors of the program.\n",
        "\n",
        "The `logging` module is more flexible and configurable compared to simple `print()` statements. Example usage:\n",
        "\n",
        "```python\n",
        "import logging\n",
        "\n",
        "logging.basicConfig(level=logging.INFO)\n",
        "logging.info(\"This is an info message.\")\n",
        "logging.error(\"This is an error message.\")\n",
        "```\n",
        "\n",
        "# 22. What is the os module in Python used for in file handling?\n",
        "\n",
        "  - The `os` module in Python is used for interacting with the operating system, and in file handling, it provides functions to perform tasks like:\n",
        "\n",
        "1. **File and Directory Manipulation**:\n",
        "\n",
        "   * `os.mkdir()` and `os.makedirs()` for creating directories.\n",
        "   * `os.remove()` for deleting files.\n",
        "   * `os.rename()` for renaming files or directories.\n",
        "   * `os.rmdir()` and `os.removedirs()` for removing directories.\n",
        "\n",
        "2. **Path Operations**:\n",
        "\n",
        "   * `os.path.exists()` to check if a file or directory exists.\n",
        "   * `os.path.join()` to join paths in a cross-platform way.\n",
        "   * `os.path.basename()` and `os.path.dirname()` to get the file or directory name from a path.\n",
        "   * `os.path.abspath()` to get the absolute path of a file.\n",
        "\n",
        "3. **Working with the Current Directory**:\n",
        "\n",
        "   * `os.getcwd()` to get the current working directory.\n",
        "   * `os.chdir()` to change the current working directory.\n",
        "\n",
        "4. **Listing Files**:\n",
        "\n",
        "   * `os.listdir()` to list all files and directories in a given directory.\n",
        "\n",
        "Example of using the `os` module for file handling:\n",
        "\n",
        "```python\n",
        "import os\n",
        "\n",
        "# Create a new directory\n",
        "os.mkdir('new_folder')\n",
        "\n",
        "# Check if a file exists\n",
        "if os.path.exists('file.txt'):\n",
        "    print(\"File exists\")\n",
        "\n",
        "# Get the current working directory\n",
        "current_dir = os.getcwd()\n",
        "print(\"Current Directory:\", current_dir)\n",
        "```\n",
        "\n",
        "# 23. What are the challenges associated with memory management in Python?\n",
        "\n",
        "  - Memory management in Python, while automated, comes with some challenges:\n",
        "\n",
        "1. **Garbage Collection Overhead**:\n",
        "\n",
        "   * Python uses reference counting and cyclic garbage collection, which can introduce performance overhead, especially in large applications with many objects. The garbage collector might not run immediately, leading to potential memory spikes.\n",
        "\n",
        "2. **Reference Cycles**:\n",
        "\n",
        "   * Objects that reference each other in a cycle (e.g., two objects pointing to each other) may not be cleaned up by reference counting alone. While Python’s cyclic garbage collector helps, managing these cycles can still be tricky.\n",
        "\n",
        "3. **Memory Fragmentation**:\n",
        "\n",
        "   * While Python’s memory management reduces fragmentation, it can still occur over time. This issue arises when small memory blocks are allocated and freed in ways that prevent large contiguous blocks of memory from being used efficiently.\n",
        "\n",
        "4. **Memory Leaks**:\n",
        "\n",
        "   * Despite automatic memory management, memory leaks can occur if objects are unintentionally held in memory (e.g., through circular references that aren’t collected). This can lead to the application consuming more memory over time.\n",
        "\n",
        "5. **Large Object Management**:\n",
        "\n",
        "   * Python’s automatic memory management is less efficient when dealing with large objects. For example, large data structures (like big lists or dictionaries) can be difficult to manage, and they may require more manual intervention to avoid excessive memory usage.\n",
        "\n",
        "6. **Global Interpreter Lock (GIL)**:\n",
        "\n",
        "   * The GIL in CPython prevents multiple threads from running simultaneously in a multi-core processor. This can affect the performance of multi-threaded applications, especially in CPU-bound tasks, as Python’s memory management isn't fully parallelized across multiple cores.\n",
        "\n",
        "7. **Unpredictability of `__del__`**:\n",
        "\n",
        "   * The `__del__` method (destructor) for object cleanup is not always called when expected, especially with circular references or complex object graphs, making it hard to manage when resources like file handles or network connections are released.\n",
        "\n",
        "# 24. How do you raise an exception manually in Python?\n",
        "\n",
        "  - In Python, we can raise an exception manually using the `raise` keyword. You can raise built-in exceptions or create your own custom exceptions. Here's how to do both:\n",
        "\n",
        "### 1. Raising a Built-in Exception:\n",
        "\n",
        "```python\n",
        "raise Exception(\"This is a custom error message.\")\n",
        "```\n",
        "\n",
        "### 2. Raising a Specific Built-in Exception:\n",
        "\n",
        "```python\n",
        "raise ValueError(\"This is a ValueError.\")\n",
        "```\n",
        "\n",
        "### 3. Raising a Custom Exception:\n",
        "\n",
        "You can also create your own custom exceptions by subclassing the built-in `Exception` class.\n",
        "\n",
        "```python\n",
        "class CustomError(Exception):\n",
        "    pass\n",
        "\n",
        "raise CustomError(\"This is a custom exception.\")\n",
        "```\n",
        "\n",
        "### Example in Context:\n",
        "\n",
        "```python\n",
        "def check_age(age):\n",
        "    if age < 18:\n",
        "        raise ValueError(\"Age must be 18 or older.\")\n",
        "    else:\n",
        "        print(\"Age is valid.\")\n",
        "\n",
        "try:\n",
        "    check_age(16)\n",
        "except ValueError as e:\n",
        "    print(f\"Error: {e}\")\n",
        "```\n",
        "\n",
        "# 25. Why is it important to use multithreading in certain applications?\n",
        "\n",
        "  - Multithreading is important in certain applications for the following reasons:\n",
        "\n",
        "1. **Improved Performance for I/O-bound Tasks**:\n",
        "\n",
        "   * In applications that spend a lot of time waiting for external resources (like reading from files, making network requests, or waiting for database queries), multithreading can help by running multiple tasks concurrently. This improves the efficiency of the application by not wasting time waiting for I/O operations to complete.\n",
        "\n",
        "2. **Responsiveness in User Interfaces**:\n",
        "\n",
        "   * For graphical user interfaces (GUIs) or interactive applications, multithreading can ensure that the main thread remains responsive to user actions while other threads handle tasks like background data processing or network communication.\n",
        "\n",
        "3. **Concurrency**:\n",
        "\n",
        "   * Multithreading allows multiple threads to run at the same time (in environments that support true parallelism, like multi-core CPUs). This can make applications more efficient by splitting tasks and executing them concurrently, though the extent of parallelism is limited in Python due to the Global Interpreter Lock (GIL) for CPU-bound tasks.\n",
        "\n",
        "4. **Better Resource Utilization**:\n",
        "\n",
        "   * In multi-core systems, multithreading allows tasks to run in parallel, making better use of available CPU cores and improving overall system performance for suitable workloads.\n",
        "\n",
        "5. **Simplified Program Structure**:\n",
        "\n",
        "   * Multithreading helps organize programs that involve multiple tasks that can be executed concurrently, like data processing, web scraping, or performing calculations in parallel. It simplifies the management of these tasks in the code, especially when they are independent of each other.\n",
        "\n",
        "### Example Use Cases:\n",
        "\n",
        "* **Web Servers**: Handling multiple incoming requests simultaneously.\n",
        "* **File Processing**: Reading and writing files concurrently to improve speed.\n",
        "* **Real-time Applications**: Managing sensors or handling multiple devices in real-time without freezing the application."
      ],
      "metadata": {
        "id": "gVY2IYMY_WQ-"
      }
    },
    {
      "cell_type": "markdown",
      "source": [
        "# **Files, exceptional handling, logging and memory management Practical Questions**:\n",
        "---"
      ],
      "metadata": {
        "id": "zarSFoOxEMtP"
      }
    },
    {
      "cell_type": "markdown",
      "source": [
        "# 1. How can you open a file for writing in Python and write a string to it?"
      ],
      "metadata": {
        "id": "GyjH49bQEPnF"
      }
    },
    {
      "cell_type": "code",
      "source": [
        "# Open a file in write mode ('w')\n",
        "with open('example.txt', 'w') as file:\n",
        "    # Write a string to the file\n",
        "    file.write(\"Hello, this is a test string!\")"
      ],
      "metadata": {
        "id": "52zu5seIEUsP"
      },
      "execution_count": 2,
      "outputs": []
    },
    {
      "cell_type": "markdown",
      "source": [
        "# 2. Write a Python program to read the contents of a file and print each line."
      ],
      "metadata": {
        "id": "O4ga0qq2EeCN"
      }
    },
    {
      "cell_type": "code",
      "source": [
        "# Open the file in read mode ('r')\n",
        "with open('example.txt', 'r') as file:\n",
        "    # Loop through each line in the file\n",
        "    for line in file:\n",
        "        # Print the current line\n",
        "        print(line, end='')  # 'end=\"\"' prevents adding extra newline"
      ],
      "metadata": {
        "colab": {
          "base_uri": "https://localhost:8080/"
        },
        "id": "D69RlhiNEjTD",
        "outputId": "90eee3a2-3d3d-46be-f9a0-2feed58b844f"
      },
      "execution_count": 3,
      "outputs": [
        {
          "output_type": "stream",
          "name": "stdout",
          "text": [
            "Hello, this is a test string!"
          ]
        }
      ]
    },
    {
      "cell_type": "markdown",
      "source": [
        "# 3. How would you handle a case where the file doesn't exist while trying to open it for reading?"
      ],
      "metadata": {
        "id": "7_DNSC7pEsoS"
      }
    },
    {
      "cell_type": "code",
      "source": [
        "try:\n",
        "    # Try to open the file for reading\n",
        "    with open('example.txt', 'r') as file:\n",
        "        # Read and print the contents\n",
        "        for line in file:\n",
        "            print(line, end='')\n",
        "except FileNotFoundError:\n",
        "    # Handle the case where the file doesn't exist\n",
        "    print(\"Error: The file 'example.txt' does not exist.\")"
      ],
      "metadata": {
        "colab": {
          "base_uri": "https://localhost:8080/"
        },
        "id": "1CbmZCmmEwLE",
        "outputId": "88cc63d3-4273-4e73-a3a8-b730e84983ae"
      },
      "execution_count": 4,
      "outputs": [
        {
          "output_type": "stream",
          "name": "stdout",
          "text": [
            "Hello, this is a test string!"
          ]
        }
      ]
    },
    {
      "cell_type": "markdown",
      "source": [
        "# 4.Write a Python script that reads from one file and writes its content to another file."
      ],
      "metadata": {
        "id": "066Q6h0KE9WS"
      }
    },
    {
      "cell_type": "code",
      "source": [
        "# Create the source file with some initial content\n",
        "with open('source.txt', 'w') as source_file_setup:\n",
        "    source_file_setup.write(\"This is the content of the source file.\")\n",
        "\n",
        "# Open the source file in read mode and the destination file in write mode\n",
        "with open('source.txt', 'r') as source_file, open('destination.txt', 'w') as dest_file:\n",
        "    # Read the content from the source file and write it to the destination file\n",
        "    content = source_file.read()\n",
        "    dest_file.write(content)\n",
        "\n",
        "print(\"Content has been copied from 'source.txt' to 'destination.txt'.\")"
      ],
      "metadata": {
        "colab": {
          "base_uri": "https://localhost:8080/"
        },
        "id": "D68hsd2yFAZ6",
        "outputId": "1ceb5591-c1f8-4514-c915-fcdc1e1df2a2"
      },
      "execution_count": 6,
      "outputs": [
        {
          "output_type": "stream",
          "name": "stdout",
          "text": [
            "Content has been copied from 'source.txt' to 'destination.txt'.\n"
          ]
        }
      ]
    },
    {
      "cell_type": "markdown",
      "source": [
        "# 5. How would you catch and handle division by zero error in Python?"
      ],
      "metadata": {
        "id": "FrIIy7xcFV39"
      }
    },
    {
      "cell_type": "code",
      "source": [
        "try:\n",
        "    # Attempt to divide by zero\n",
        "    result = 10 / 0\n",
        "except ZeroDivisionError:\n",
        "    # Handle the division by zero error\n",
        "    print(\"Error: Cannot divide by zero.\")\n",
        "else:\n",
        "    # If no error, print the result\n",
        "    print(f\"The result is {result}\")"
      ],
      "metadata": {
        "colab": {
          "base_uri": "https://localhost:8080/"
        },
        "id": "Fsi6TWgcFX0D",
        "outputId": "21bc7e1f-7b91-4802-9304-11a3b4effece"
      },
      "execution_count": 7,
      "outputs": [
        {
          "output_type": "stream",
          "name": "stdout",
          "text": [
            "Error: Cannot divide by zero.\n"
          ]
        }
      ]
    },
    {
      "cell_type": "markdown",
      "source": [
        "# 6.Write a Python program that logs an error message to a log file when a division by zero exception occurs."
      ],
      "metadata": {
        "id": "PTo9fiIGFd9u"
      }
    },
    {
      "cell_type": "code",
      "source": [
        "import logging\n",
        "\n",
        "# Set up logging configuration\n",
        "logging.basicConfig(filename='error_log.txt', level=logging.ERROR,\n",
        "                    format='%(asctime)s - %(levelname)s - %(message)s')\n",
        "\n",
        "try:\n",
        "    # Attempt to divide by zero\n",
        "    result = 10 / 0\n",
        "except ZeroDivisionError as e:\n",
        "    # Log the error message to the log file\n",
        "    logging.error(f\"Division by zero error: {e}\")\n",
        "    print(\"Error: Cannot divide by zero. Check the log file for details.\")"
      ],
      "metadata": {
        "colab": {
          "base_uri": "https://localhost:8080/"
        },
        "id": "SPTxSjYRFixZ",
        "outputId": "34c1108e-0237-4c44-8f78-f2c7018d292e"
      },
      "execution_count": 8,
      "outputs": [
        {
          "output_type": "stream",
          "name": "stderr",
          "text": [
            "ERROR:root:Division by zero error: division by zero\n"
          ]
        },
        {
          "output_type": "stream",
          "name": "stdout",
          "text": [
            "Error: Cannot divide by zero. Check the log file for details.\n"
          ]
        }
      ]
    },
    {
      "cell_type": "markdown",
      "source": [
        "# 7. How do you log information at different levels (INFO, ERROR, WARNING) in Python using the logging module?"
      ],
      "metadata": {
        "id": "9nXWj6arFxG4"
      }
    },
    {
      "cell_type": "code",
      "source": [
        "import logging\n",
        "\n",
        "# Set up logging configuration\n",
        "logging.basicConfig(filename='app.log', level=logging.DEBUG,  # Logs messages from DEBUG level and above\n",
        "                    format='%(asctime)s - %(levelname)s - %(message)s')\n",
        "\n",
        "# Log messages at different levels\n",
        "\n",
        "# INFO level: General information about program operation\n",
        "logging.info('This is an info message.')\n",
        "\n",
        "# WARNING level: Indicates a potential problem or something unexpected\n",
        "logging.warning('This is a warning message.')\n",
        "\n",
        "# ERROR level: Indicates a more serious problem, like an exception or issue\n",
        "logging.error('This is an error message.')\n",
        "\n",
        "# DEBUG level: Detailed information useful for diagnosing problems (lower level)\n",
        "logging.debug('This is a debug message.')\n",
        "\n",
        "# CRITICAL level: A very serious error, often leading to program termination\n",
        "logging.critical('This is a critical message.')"
      ],
      "metadata": {
        "colab": {
          "base_uri": "https://localhost:8080/"
        },
        "id": "lp5tfHN4F3uq",
        "outputId": "61d61049-f6da-4877-81fd-aa08fbb5ca4b"
      },
      "execution_count": 9,
      "outputs": [
        {
          "output_type": "stream",
          "name": "stderr",
          "text": [
            "WARNING:root:This is a warning message.\n",
            "ERROR:root:This is an error message.\n",
            "CRITICAL:root:This is a critical message.\n"
          ]
        }
      ]
    },
    {
      "cell_type": "markdown",
      "source": [
        "# 8. Write a program to handle a file opening error using exception handling."
      ],
      "metadata": {
        "id": "lx9mM8UdF_un"
      }
    },
    {
      "cell_type": "code",
      "source": [
        "try:\n",
        "    # Attempt to open a file\n",
        "    with open('non_existent_file.txt', 'r') as file:\n",
        "        content = file.read()\n",
        "        print(content)\n",
        "except FileNotFoundError:\n",
        "    # Handle the case where the file doesn't exist\n",
        "    print(\"Error: The file does not exist.\")\n",
        "except IOError:\n",
        "    # Handle other I/O related errors\n",
        "    print(\"Error: An error occurred while trying to read the file.\")"
      ],
      "metadata": {
        "colab": {
          "base_uri": "https://localhost:8080/"
        },
        "id": "DrU8ivkiGCtI",
        "outputId": "64953a3c-88f1-493e-af07-c84c6fd29e83"
      },
      "execution_count": 10,
      "outputs": [
        {
          "output_type": "stream",
          "name": "stdout",
          "text": [
            "Error: The file does not exist.\n"
          ]
        }
      ]
    },
    {
      "cell_type": "markdown",
      "source": [
        "# 9. How can you read a file line by line and store its content in a list in Python?"
      ],
      "metadata": {
        "id": "hu9MTBcuGIVE"
      }
    },
    {
      "cell_type": "code",
      "source": [
        "# Open the file in read mode\n",
        "with open('example.txt', 'r') as file:\n",
        "    # Store the lines in a list\n",
        "    lines = [line.strip() for line in file]\n",
        "\n",
        "# Print the list of lines\n",
        "print(lines)"
      ],
      "metadata": {
        "colab": {
          "base_uri": "https://localhost:8080/"
        },
        "id": "Ub8t5cXRGY2U",
        "outputId": "630f3bfc-9836-4506-95c3-d6871387f2f2"
      },
      "execution_count": 11,
      "outputs": [
        {
          "output_type": "stream",
          "name": "stdout",
          "text": [
            "['Hello, this is a test string!']\n"
          ]
        }
      ]
    },
    {
      "cell_type": "markdown",
      "source": [
        "# 10. How can you append data to an existing file in Python?"
      ],
      "metadata": {
        "id": "oDu4FG0yGehr"
      }
    },
    {
      "cell_type": "code",
      "source": [
        "# Open the file in append mode ('a')\n",
        "with open('example.txt', 'a') as file:\n",
        "    # Append new data to the file\n",
        "    file.write(\"\\nThis is new data appended to the file.\")\n",
        "\n",
        "print(\"Data has been appended to 'example.txt'.\")"
      ],
      "metadata": {
        "colab": {
          "base_uri": "https://localhost:8080/"
        },
        "id": "g5BOIruCGycp",
        "outputId": "e383d98c-6307-44f0-f1ed-f5a49649c728"
      },
      "execution_count": 15,
      "outputs": [
        {
          "output_type": "stream",
          "name": "stdout",
          "text": [
            "Data has been appended to 'example.txt'.\n"
          ]
        }
      ]
    },
    {
      "cell_type": "markdown",
      "source": [
        "# 11. Write a Python program that uses a try-except block to handle an error when attempting to access a dictionary key that doesn't exist."
      ],
      "metadata": {
        "id": "n4QRaGUjHH4k"
      }
    },
    {
      "cell_type": "code",
      "source": [
        "# Sample dictionary\n",
        "my_dict = {\"name\": \"Alice\", \"age\": 25}\n",
        "\n",
        "# Attempting to access a key that doesn't exist\n",
        "try:\n",
        "    value = my_dict[\"address\"]\n",
        "except KeyError as e:\n",
        "    print(f\"Error: Key '{e.args[0]}' not found in the dictionary.\")"
      ],
      "metadata": {
        "colab": {
          "base_uri": "https://localhost:8080/"
        },
        "id": "_QdyPDiOHR-j",
        "outputId": "81697715-2817-44e9-ef95-5562c8251d1a"
      },
      "execution_count": 16,
      "outputs": [
        {
          "output_type": "stream",
          "name": "stdout",
          "text": [
            "Error: Key 'address' not found in the dictionary.\n"
          ]
        }
      ]
    },
    {
      "cell_type": "markdown",
      "source": [
        "# 12. Write a program that demonstrates using multiple except blocks to handle different types of exceptions."
      ],
      "metadata": {
        "id": "esDEKN16HUW3"
      }
    },
    {
      "cell_type": "code",
      "source": [
        "try:\n",
        "    # User input for division\n",
        "    num = int(input(\"Enter a number to divide: \"))\n",
        "    divisor = int(input(\"Enter a divisor: \"))\n",
        "\n",
        "    # Perform division\n",
        "    result = num / divisor\n",
        "\n",
        "    # Simulate different types of errors\n",
        "    print(f\"Result of {num} / {divisor} = {result}\")\n",
        "\n",
        "except ValueError:\n",
        "    print(\"Error: Please enter a valid integer.\")\n",
        "\n",
        "except ZeroDivisionError:\n",
        "    print(\"Error: Division by zero is not allowed.\")\n",
        "\n",
        "except Exception as e:\n",
        "    print(f\"An unexpected error occurred: {e}\")"
      ],
      "metadata": {
        "colab": {
          "base_uri": "https://localhost:8080/"
        },
        "id": "vZ6G4jnyHiDq",
        "outputId": "0bd01958-2ec0-4c14-8797-ff96f2ead3f4"
      },
      "execution_count": 19,
      "outputs": [
        {
          "output_type": "stream",
          "name": "stdout",
          "text": [
            "Enter a number to divide: 10\n",
            "Enter a divisor: 2\n",
            "Result of 10 / 2 = 5.0\n"
          ]
        }
      ]
    },
    {
      "cell_type": "markdown",
      "source": [
        "# 13. How would you check if a file exists before attempting to read it in Python?"
      ],
      "metadata": {
        "id": "b65k-oMqH7it"
      }
    },
    {
      "cell_type": "code",
      "source": [
        "import os\n",
        "\n",
        "# Define the file path\n",
        "file_path = \"example.txt\"\n",
        "\n",
        "# Check if the file exists before trying to read it\n",
        "if os.path.exists(file_path):\n",
        "    with open(file_path, 'r') as file:\n",
        "        content = file.read()\n",
        "        print(content)\n",
        "else:\n",
        "    print(f\"The file '{file_path}' does not exist.\")"
      ],
      "metadata": {
        "colab": {
          "base_uri": "https://localhost:8080/"
        },
        "id": "YiQGCsbVIFGG",
        "outputId": "3b400473-a977-435d-f423-b2e95facfd5a"
      },
      "execution_count": 20,
      "outputs": [
        {
          "output_type": "stream",
          "name": "stdout",
          "text": [
            "Hello, this is a test string!\n",
            "This is the new line of data being appended.\n",
            "This is the new line of data being appended.\n",
            "This is the new line of data being appended.\n",
            "This is new data appended to the file.\n"
          ]
        }
      ]
    },
    {
      "cell_type": "markdown",
      "source": [
        "# 14.Write a program that uses the logging module to log both informational and error messages?"
      ],
      "metadata": {
        "id": "PoMWLPUfIKFv"
      }
    },
    {
      "cell_type": "code",
      "source": [
        "import logging\n",
        "\n",
        "# Set up basic configuration for logging\n",
        "logging.basicConfig(\n",
        "    level=logging.DEBUG,  # Log all levels (DEBUG, INFO, WARNING, ERROR, CRITICAL)\n",
        "    format='%(asctime)s - %(levelname)s - %(message)s',  # Log format\n",
        "    handlers=[\n",
        "        logging.FileHandler('app.log'),  # Log to a file\n",
        "        logging.StreamHandler()  # Also print to the console\n",
        "    ]\n",
        ")\n",
        "\n",
        "# Informational log message\n",
        "logging.info(\"This is an informational message.\")\n",
        "\n",
        "# Simulating an operation that may cause an error\n",
        "try:\n",
        "    x = 10 / 0\n",
        "except ZeroDivisionError as e:\n",
        "    # Error log message\n",
        "    logging.error(f\"An error occurred: {e}\")"
      ],
      "metadata": {
        "colab": {
          "base_uri": "https://localhost:8080/"
        },
        "id": "MBus0Bh7IMLr",
        "outputId": "6afee573-0fc2-4521-8eb7-b2da123cdeee"
      },
      "execution_count": 21,
      "outputs": [
        {
          "output_type": "stream",
          "name": "stderr",
          "text": [
            "ERROR:root:An error occurred: division by zero\n"
          ]
        }
      ]
    },
    {
      "cell_type": "markdown",
      "source": [
        "# 15. Write a Python program that prints the content of a file and handles the case when the file is empty."
      ],
      "metadata": {
        "id": "O8gBL2imIVoY"
      }
    },
    {
      "cell_type": "code",
      "source": [
        "# Define the file path\n",
        "file_path = \"example.txt\"\n",
        "\n",
        "try:\n",
        "    # Open the file in read mode\n",
        "    with open(file_path, 'r') as file:\n",
        "        content = file.read().strip()  # Read and remove leading/trailing whitespace\n",
        "\n",
        "        # Check if the file is empty\n",
        "        if not content:\n",
        "            print(f\"The file '{file_path}' is empty.\")\n",
        "        else:\n",
        "            print(f\"Content of the file '{file_path}':\")\n",
        "            print(content)\n",
        "\n",
        "except FileNotFoundError:\n",
        "    print(f\"Error: The file '{file_path}' does not exist.\")\n",
        "except Exception as e:\n",
        "    print(f\"An unexpected error occurred: {e}\")"
      ],
      "metadata": {
        "colab": {
          "base_uri": "https://localhost:8080/"
        },
        "id": "joCEsYUVIcMp",
        "outputId": "095e8baa-ec46-40e7-96a7-22b4c4157171"
      },
      "execution_count": 22,
      "outputs": [
        {
          "output_type": "stream",
          "name": "stdout",
          "text": [
            "Content of the file 'example.txt':\n",
            "Hello, this is a test string!\n",
            "This is the new line of data being appended.\n",
            "This is the new line of data being appended.\n",
            "This is the new line of data being appended.\n",
            "This is new data appended to the file.\n"
          ]
        }
      ]
    },
    {
      "cell_type": "markdown",
      "source": [
        "# 16. Demonstrate how to use memory profiling to check the memory usage of a small program."
      ],
      "metadata": {
        "id": "qsLBagVzIhtI"
      }
    },
    {
      "cell_type": "code",
      "source": [
        "!pip install memory_profiler\n",
        "from memory_profiler import profile\n",
        "\n",
        "@profile\n",
        "def my_function():\n",
        "    a = [i for i in range(1000)]  # A list of 1000 numbers\n",
        "    b = [i**2 for i in range(1000)]  # A list of 1000 squared numbers\n",
        "    result = sum(a) + sum(b)  # Simple operation to use memory\n",
        "    print(f\"Sum of elements: {result}\")\n",
        "    return result\n",
        "\n",
        "if __name__ == \"__main__\":\n",
        "    my_function()"
      ],
      "metadata": {
        "colab": {
          "base_uri": "https://localhost:8080/"
        },
        "id": "ld5MMUqqImi0",
        "outputId": "cc6ca6ae-0117-467f-ceef-061e2e71b305"
      },
      "execution_count": 25,
      "outputs": [
        {
          "output_type": "stream",
          "name": "stdout",
          "text": [
            "Requirement already satisfied: memory_profiler in /usr/local/lib/python3.11/dist-packages (0.61.0)\n",
            "Requirement already satisfied: psutil in /usr/local/lib/python3.11/dist-packages (from memory_profiler) (5.9.5)\n",
            "ERROR: Could not find file <ipython-input-25-acc0b469a906>\n",
            "NOTE: %mprun can only be used on functions defined in physical files, and not in the IPython environment.\n",
            "Sum of elements: 333333000\n"
          ]
        }
      ]
    },
    {
      "cell_type": "markdown",
      "source": [
        "# 17. Write a Python program to create and write a list of numbers to a file, one number per line."
      ],
      "metadata": {
        "id": "w02oVZrSI-D9"
      }
    },
    {
      "cell_type": "code",
      "source": [
        "numbers_list = [10, 20, 30, 40, 50]\n",
        "\n",
        "# Define the file name\n",
        "file_name = \"my_numbers.txt\"\n",
        "\n",
        "# Open the file in write mode ('w')\n",
        "# The 'with' statement ensures the file is closed automatically\n",
        "with open(file_name, 'w') as file:\n",
        "    # Iterate through the list of numbers\n",
        "    for number in numbers_list:\n",
        "        # Write each number to the file followed by a newline character\n",
        "        file.write(f\"{number}\\n\")\n",
        "\n",
        "# Print a confirmation message\n",
        "print(f\"Successfully wrote numbers to {file_name}\")"
      ],
      "metadata": {
        "colab": {
          "base_uri": "https://localhost:8080/"
        },
        "id": "xuexIF7dJFuA",
        "outputId": "59c0d531-48c2-46f7-9380-c967f8ed34d3"
      },
      "execution_count": 28,
      "outputs": [
        {
          "output_type": "stream",
          "name": "stdout",
          "text": [
            "Successfully wrote numbers to my_numbers.txt\n"
          ]
        }
      ]
    },
    {
      "cell_type": "markdown",
      "source": [
        "# 18.How would you implement a basic logging setup that logs to a file with rotation after 1MB?"
      ],
      "metadata": {
        "id": "-1HMLUspJanq"
      }
    },
    {
      "cell_type": "code",
      "source": [
        "import logging\n",
        "from logging.handlers import RotatingFileHandler\n",
        "\n",
        "# Define the log file path\n",
        "log_file = \"app.log\"\n",
        "\n",
        "# Create a rotating file handler that rotates after 1MB\n",
        "handler = RotatingFileHandler(log_file, maxBytes=1 * 1024 * 1024, backupCount=3)\n",
        "\n",
        "# Set up basic logging configuration\n",
        "logging.basicConfig(\n",
        "    level=logging.INFO,  # Log level set to INFO (will log INFO, WARNING, ERROR, CRITICAL)\n",
        "    format='%(asctime)s - %(levelname)s - %(message)s',  # Log message format\n",
        "    handlers=[handler]  # Add the rotating file handler to the logger\n",
        ")\n",
        "\n",
        "# Example log messages\n",
        "logging.info(\"This is an informational message.\")\n",
        "logging.warning(\"This is a warning message.\")\n",
        "logging.error(\"This is an error message.\")\n",
        "\n",
        "# Simulate more logging messages to fill the log file\n",
        "for i in range(1000):\n",
        "    logging.debug(f\"Debug message #{i}\")"
      ],
      "metadata": {
        "colab": {
          "base_uri": "https://localhost:8080/"
        },
        "id": "-sEBxO2HJkCn",
        "outputId": "eb877834-c21e-4213-fa7f-8ab1c495dfdd"
      },
      "execution_count": 30,
      "outputs": [
        {
          "output_type": "stream",
          "name": "stderr",
          "text": [
            "WARNING:root:This is a warning message.\n",
            "ERROR:root:This is an error message.\n"
          ]
        }
      ]
    },
    {
      "cell_type": "markdown",
      "source": [
        "# 19. Write a program that handles both IndexError and KeyError using a try-except block."
      ],
      "metadata": {
        "id": "sKJZ-ZTgKGi5"
      }
    },
    {
      "cell_type": "code",
      "source": [
        "my_list = [1, 2, 3]\n",
        "my_dict = {\"name\": \"Virat\", \"age\": 36}\n",
        "\n",
        "# Try block to handle both IndexError and KeyError\n",
        "try:\n",
        "    # Trying to access an index that doesn't exist in the list\n",
        "    print(my_list[5])  # This will raise IndexError\n",
        "\n",
        "    # Trying to access a key that doesn't exist in the dictionary\n",
        "    print(my_dict[\"address\"])  # This will raise KeyError\n",
        "\n",
        "except IndexError as e:\n",
        "    print(f\"IndexError occurred: {e}\")\n",
        "\n",
        "except KeyError as e:\n",
        "    print(f\"KeyError occurred: {e}\")"
      ],
      "metadata": {
        "colab": {
          "base_uri": "https://localhost:8080/"
        },
        "id": "pXYoVuV2KLvi",
        "outputId": "6e894b03-2ba7-4afe-d35b-940074d28184"
      },
      "execution_count": 33,
      "outputs": [
        {
          "output_type": "stream",
          "name": "stdout",
          "text": [
            "IndexError occurred: list index out of range\n"
          ]
        }
      ]
    },
    {
      "cell_type": "markdown",
      "source": [
        "# 20. How would you open a file and read its contents using a context manager in Python?"
      ],
      "metadata": {
        "id": "d9BxO4TGKYCz"
      }
    },
    {
      "cell_type": "code",
      "source": [
        "file_path = \"example.txt\"\n",
        "\n",
        "# Using a context manager to open and read the file\n",
        "with open(file_path, 'r') as file:\n",
        "    content = file.read()  # Read the entire content of the file\n",
        "\n",
        "    if content:  # If the file is not empty\n",
        "        print(content)\n",
        "    else:\n",
        "        print(\"The file is empty.\")"
      ],
      "metadata": {
        "colab": {
          "base_uri": "https://localhost:8080/"
        },
        "id": "O_qpS9XLKkai",
        "outputId": "b94843df-a38f-4ecf-8b8b-b7d1ee2ea786"
      },
      "execution_count": 36,
      "outputs": [
        {
          "output_type": "stream",
          "name": "stdout",
          "text": [
            "Hello, this is a test string!\n",
            "This is the new line of data being appended.\n",
            "This is the new line of data being appended.\n",
            "This is the new line of data being appended.\n",
            "This is new data appended to the file.\n"
          ]
        }
      ]
    },
    {
      "cell_type": "markdown",
      "source": [
        "# 21. Write a Python program that reads a file and prints the number of occurrences of a specific word."
      ],
      "metadata": {
        "id": "_mp3g18MKool"
      }
    },
    {
      "cell_type": "code",
      "source": [
        "def count_word_occurrences(file_path, target_word):\n",
        "    try:\n",
        "        # Open the file in read mode using a context manager\n",
        "        with open(file_path, 'r') as file:\n",
        "            # Initialize a counter for the occurrences of the word\n",
        "            word_count = 0\n",
        "\n",
        "            # Read the file line by line\n",
        "            for line in file:\n",
        "                # Split the line into words and count the occurrences of the target word\n",
        "                word_count += line.lower().split().count(target_word.lower())\n",
        "\n",
        "        # Return the total number of occurrences\n",
        "        return word_count\n",
        "\n",
        "    except FileNotFoundError:\n",
        "        print(f\"Error: The file '{file_path}' does not exist.\")\n",
        "        return 0\n",
        "\n",
        "# Define the file path and the target word\n",
        "file_path = \"example.txt\"\n",
        "target_word = \"python\"\n",
        "\n",
        "# Count the occurrences of the target word in the file\n",
        "occurrences = count_word_occurrences(file_path, target_word)\n",
        "\n",
        "# Print the result\n",
        "if occurrences > 0:\n",
        "    print(f\"The word '{target_word}' occurs {occurrences} time(s) in the file.\")\n",
        "else:\n",
        "    print(f\"The word '{target_word}' does not occur in the file.\")"
      ],
      "metadata": {
        "colab": {
          "base_uri": "https://localhost:8080/"
        },
        "id": "sqtdUlItKymM",
        "outputId": "1ee7a42a-48c3-4f09-b945-ecfb3dda558d"
      },
      "execution_count": 39,
      "outputs": [
        {
          "output_type": "stream",
          "name": "stdout",
          "text": [
            "The word 'python' does not occur in the file.\n"
          ]
        }
      ]
    },
    {
      "cell_type": "markdown",
      "source": [
        "# 22. How can you check if a file is empty before attempting to read its contents?"
      ],
      "metadata": {
        "id": "uXfagGdaK5Ru"
      }
    },
    {
      "cell_type": "code",
      "source": [
        "import os\n",
        "\n",
        "# Function to check if the file is empty\n",
        "def is_file_empty(file_path):\n",
        "    return os.path.getsize(file_path) == 0\n",
        "\n",
        "# File path\n",
        "file_path = \"example.txt\"\n",
        "\n",
        "# Check if the file is empty\n",
        "if is_file_empty(file_path):\n",
        "    print(f\"The file '{file_path}' is empty.\")\n",
        "else:\n",
        "    with open(file_path, 'r') as file:\n",
        "        content = file.read()\n",
        "        print(\"File content:\")\n",
        "        print(content)"
      ],
      "metadata": {
        "colab": {
          "base_uri": "https://localhost:8080/"
        },
        "id": "hYXJOSWXK--l",
        "outputId": "912784a6-abcb-49eb-cadd-d56bb2a07433"
      },
      "execution_count": 41,
      "outputs": [
        {
          "output_type": "stream",
          "name": "stdout",
          "text": [
            "File content:\n",
            "Hello, this is a test string!\n",
            "This is the new line of data being appended.\n",
            "This is the new line of data being appended.\n",
            "This is the new line of data being appended.\n",
            "This is new data appended to the file.\n"
          ]
        }
      ]
    },
    {
      "cell_type": "markdown",
      "source": [
        "# 23. Write a Python program that writes to a log file when an error occurs during file handling."
      ],
      "metadata": {
        "id": "zdNlwAuCLOBb"
      }
    },
    {
      "cell_type": "code",
      "source": [
        "import logging\n",
        "\n",
        "# Set up logging to log errors to a file\n",
        "logging.basicConfig(\n",
        "    filename='file_handling_errors.log',  # Log file name\n",
        "    level=logging.ERROR,                  # Set the logging level to ERROR\n",
        "    format='%(asctime)s - %(levelname)s - %(message)s'  # Log format with timestamp\n",
        ")\n",
        "\n",
        "# Function that reads a file and logs errors if they occur\n",
        "def read_file(file_path):\n",
        "    try:\n",
        "        # Attempt to open and read the file\n",
        "        with open(file_path, 'r') as file:\n",
        "            content = file.read()\n",
        "            print(content)  # Print the file content if read successfully\n",
        "    except FileNotFoundError as e:\n",
        "        # Log the error if the file is not found\n",
        "        logging.error(f\"File not found: {file_path} - {e}\")\n",
        "        print(f\"Error: The file '{file_path}' was not found.\")\n",
        "    except PermissionError as e:\n",
        "        # Log the error if there are permission issues\n",
        "        logging.error(f\"Permission error: {file_path} - {e}\")\n",
        "        print(f\"Error: Permission denied for the file '{file_path}'.\")\n",
        "    except Exception as e:\n",
        "        # Log any other unexpected errors\n",
        "        logging.error(f\"Unexpected error with file {file_path} - {e}\")\n",
        "        print(f\"An unexpected error occurred with the file '{file_path}'.\")\n",
        "\n",
        "# Example of file handling with logging error\n",
        "file_path = \"example.txt\"\n",
        "read_file(file_path)"
      ],
      "metadata": {
        "colab": {
          "base_uri": "https://localhost:8080/"
        },
        "id": "iBdXKKmGLQIr",
        "outputId": "d22332c2-2204-48ff-d3d9-0f408944c9e1"
      },
      "execution_count": 43,
      "outputs": [
        {
          "output_type": "stream",
          "name": "stdout",
          "text": [
            "Hello, this is a test string!\n",
            "This is the new line of data being appended.\n",
            "This is the new line of data being appended.\n",
            "This is the new line of data being appended.\n",
            "This is new data appended to the file.\n"
          ]
        }
      ]
    }
  ]
}